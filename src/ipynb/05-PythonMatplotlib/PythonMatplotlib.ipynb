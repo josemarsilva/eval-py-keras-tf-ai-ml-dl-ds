{
 "cells": [
  {
   "cell_type": "markdown",
   "metadata": {},
   "source": [
    "# Python - NumPy"
   ]
  },
  {
   "cell_type": "markdown",
   "metadata": {},
   "source": [
    "# 1. Introdução\n",
    "\n",
    "NumPy é um pacote de computação científica com Python. É muito poderoso, você pode construir um objeto array n-dimensional. Ele é baseado em C, portanto é performático.\n",
    "\n",
    "* Para instalar você deve fazer:\n",
    "```cmd\n",
    "pip install numpy\n",
    "```"
   ]
  },
  {
   "cell_type": "markdown",
   "metadata": {},
   "source": [
    "# 2. Guia de Uso "
   ]
  },
  {
   "cell_type": "markdown",
   "metadata": {},
   "source": [
    "## 2.1. Import\n",
    "* Para utilizar você deve importar a biblioteca numpy \n",
    "```cmd\n",
    "import numpy # opcionalmente você pode dar um apelido. Ex: import numpy as np\n",
    "```"
   ]
  },
  {
   "cell_type": "markdown",
   "metadata": {},
   "source": [
    "## 2.2. Criando um Array em Numpy"
   ]
  },
  {
   "cell_type": "code",
   "execution_count": 5,
   "metadata": {},
   "outputs": [
    {
     "name": "stdout",
     "output_type": "stream",
     "text": [
      "classe:  <class 'numpy.ndarray'> - conteúdo:  [10 20 30 40]\n"
     ]
    }
   ],
   "source": [
    "import numpy # aqui pode se dar um apelido exemplo np\n",
    "a = numpy.array([10,20,30,40])\n",
    "print('classe: ', type(a), '- conteúdo: ', a)"
   ]
  },
  {
   "cell_type": "markdown",
   "metadata": {},
   "source": [
    "## 2.3. Matrizes n-dimensional\n",
    "* Criação, inicialização\n",
    "* Acessando elementos (n, m)\n",
    "* Acessando a linha toda ou a coluna toda\n",
    "* Transposição da matriz\n",
    "* Operações com matrizes: soma, subtração, multiplicação\n",
    "* Soma de elementos de um array n-dimensional\n",
    "* Maior e Menor elemento de um array n-dimensional"
   ]
  },
  {
   "cell_type": "code",
   "execution_count": 40,
   "metadata": {},
   "outputs": [
    {
     "name": "stdout",
     "output_type": "stream",
     "text": [
      "Elemento da 2a linha e 2a coluna:  4\n",
      "... também é possível:  4\n",
      "Segunda linha da matriz:  [[3 4]]\n",
      "Primeira coluna da matriz:  [1 3]\n",
      "Matriz Transposta: \n",
      "[[1 3]\n",
      " [2 4]]\n",
      "\n",
      "Operações com matrizes: \n",
      "m1:\n",
      " [[1 2 3]\n",
      " [4 5 6]]\n",
      "m2:\n",
      " [[ 7  8  9]\n",
      " [10 11 12]]\n",
      "m1+m2:\n",
      " [[ 8 10 12]\n",
      " [14 16 18]]\n",
      "m2-m1:\n",
      " [[6 6 6]\n",
      " [6 6 6]]\n",
      "m1*m2:\n",
      " [[ 7 16 27]\n",
      " [40 55 72]]\n",
      "a1:\n",
      " [1 2 3 4 5 6]\n",
      "array - a1.sum():  21\n",
      "matriz - m1.sum(): 21\n",
      "array - a1.argmax() 5  - atenção que o retorno é o índice do array\n",
      "array - a1.argmin() 0  - atenção que o retorno é o índice do array\n"
     ]
    }
   ],
   "source": [
    "m = numpy.array([(1,2),(3,4)])\n",
    "print('Elemento da 2a linha e 2a coluna: ', m[1][1]) # lembrando que a indexação é a partir do 0\n",
    "print('... também é possível: ', m[-1][-1])          # também posso acessar pela última linha\n",
    "print('Segunda linha da matriz: ', m[1:])            # acessando toda a última linha\n",
    "print('Primeira coluna da matriz: ', m[:,0])         # acessando toda a primeira coluna\n",
    "print('Matriz Transposta: ')\n",
    "print(m.transpose())        # matriz transposta\n",
    "m1 = numpy.array([(1,2,3),(4,5,6)])\n",
    "m2 = numpy.array([(7,8,9),(10,11,12)])\n",
    "print('\\nOperações com matrizes: ')\n",
    "print('m1:\\n', m1)\n",
    "print('m2:\\n', m2)\n",
    "print('m1+m2:\\n', m1+m2)\n",
    "print('m2-m1:\\n', m2-m1) # elemento por elemento a diferença\n",
    "print('m1*m2:\\n', m1*m2) # lembrando que número de colunas de m1 tem que ser igual ao número de colunas de m2\n",
    "a1 = numpy.array([1,2,3,4,5,6])\n",
    "print('a1:\\n', a1)\n",
    "print('array - a1.sum(): ', a1.sum())\n",
    "print('matriz - m1.sum():', m1.sum())\n",
    "print('array - a1.argmax()', a1.argmax(), ' - atenção que o retorno é o índice do array')\n",
    "print('array - a1.argmin()', a1.argmin(), ' - atenção que o retorno é o índice do array')\n"
   ]
  },
  {
   "cell_type": "markdown",
   "metadata": {},
   "source": [
    "## 2.4. NumPy Array vs Listas do Python\n",
    "* NumPy Arrays são mais compactos - consomem menos memória\n",
    "* NumPy Arrays são mais eficientes - acessos leituras e escritas são muito mais rápidos\n",
    "* Para computação científica vale muito a pena uso do NumPy"
   ]
  },
  {
   "cell_type": "code",
   "execution_count": 47,
   "metadata": {},
   "outputs": [
    {
     "name": "stdout",
     "output_type": "stream",
     "text": [
      "Média (mean):\n",
      " 5.0\n",
      "Diagonal:\n",
      " [2 8]\n"
     ]
    }
   ],
   "source": [
    "import numpy as np\n",
    "m1 = np.array([(2,4),(6,8)])\n",
    "# abaixo digite \"a.\" em seguida <TAB> e mostra a lista de operações que você pode fazer com NumPy\n",
    "print('Média (mean):\\n', m1.mean())\n",
    "print('Diagonal:\\n', m1.diagonal())"
   ]
  },
  {
   "cell_type": "code",
   "execution_count": 48,
   "metadata": {},
   "outputs": [],
   "source": [
    "lista = [1, 2, 3, 'josemar']\n",
    "# abaixo digite \"lista.\" em seguida <TAB>"
   ]
  },
  {
   "cell_type": "markdown",
   "metadata": {},
   "source": [
    "## 2.5. Eficiência do NumPy\n",
    "* O NumPy é muito mais eficiente nas interaçoes: Soma de elementos"
   ]
  },
  {
   "cell_type": "code",
   "execution_count": 54,
   "metadata": {},
   "outputs": [],
   "source": [
    "soma = 0\n",
    "for i in range(1, 100000001): # 1 seguido de 7 x zeros + 1\n",
    "    soma += i"
   ]
  },
  {
   "cell_type": "code",
   "execution_count": 57,
   "metadata": {},
   "outputs": [
    {
     "data": {
      "text/plain": [
       "987459712"
      ]
     },
     "execution_count": 57,
     "metadata": {},
     "output_type": "execute_result"
    }
   ],
   "source": [
    "import numpy as np\n",
    "np.arange(1,100000001).sum()"
   ]
  },
  {
   "cell_type": "markdown",
   "metadata": {},
   "source": [
    "## 2.6. Fatiamento (Slice) em NumPy"
   ]
  },
  {
   "cell_type": "code",
   "execution_count": 65,
   "metadata": {},
   "outputs": [
    {
     "name": "stdout",
     "output_type": "stream",
     "text": [
      "Lista - Fatiamento - do índice 1 ao índice 1 (aberto) [20]\n",
      "Lista - Fatiamento - o terceiro termo é o salto [10, 30]\n"
     ]
    }
   ],
   "source": [
    "lista = [10, 20, 30, 40]\n",
    "print('Lista - Fatiamento - do índice 1 ao índice 1 (aberto)', lista[1:2]) # >= i && < j\n",
    "print('Lista - Fatiamento - o terceiro termo é o salto', lista[::2])       # a partir do primeiro elemento, até o final, saltando 2 posições\n"
   ]
  },
  {
   "cell_type": "code",
   "execution_count": 73,
   "metadata": {},
   "outputs": [
    {
     "name": "stdout",
     "output_type": "stream",
     "text": [
      "NumPy - Fatiamento - do indice 1 [20]\n",
      "NumPy - Fatiamento - o terceiro termo é o salto [10 30]\n"
     ]
    }
   ],
   "source": [
    "import numpy as np\n",
    "a = np.array(lista)\n",
    "print('NumPy - Fatiamento - do indice 1', a[1:2])\n",
    "print('NumPy - Fatiamento - o terceiro termo é o salto', a[::2])"
   ]
  },
  {
   "cell_type": "markdown",
   "metadata": {},
   "source": [
    "## 2.7. NumPy vs Lista - Cópia do conteúdo vs cópia do Label (endereço de memória)\n",
    "* Usando Listas a atribuição de uma nova lista consiste na criação de um ponteiro para o mesmo elemento\n",
    "* Usando NumPy Array a atribuição de um novo array implica também na criação de um ponteiro para o mesmo elemento\n",
    "* Usando NumPy Array, para se tirar uma cópia do dados, de forma que se eles forem alterados não impactar o objeto original, isto deve ser feito com copy"
   ]
  },
  {
   "cell_type": "code",
   "execution_count": 86,
   "metadata": {},
   "outputs": [
    {
     "name": "stdout",
     "output_type": "stream",
     "text": [
      "l1:\n",
      " [999, 2, 3, 4, 5]\n",
      "l2:\n",
      " [999, 2, 3, 4, 5]\n",
      "a1:\n",
      " [999   2   3   4   5]\n",
      "a2:\n",
      " [999   2   3   4   5]\n",
      "a3:\n",
      " [888   2   3   4   5]\n",
      "a4:\n",
      " [1 2 3 4 5]\n"
     ]
    }
   ],
   "source": [
    "l1 = [1,2,3,4,5]\n",
    "l2 = l1 # Em listas a atribuição é apenas um novo rótulo para o mesmo objeto\n",
    "l1[0] = 999 # veja que a atribuição foi feita em l1 mas também afeta l2\n",
    "print('l1:\\n', l1) \n",
    "print('l2:\\n', l2)\n",
    "\n",
    "import numpy as np\n",
    "a1 = np.array([1,2,3,4,5])\n",
    "a2 = a1[:]\n",
    "a2[0] = 999\n",
    "print('a1:\\n', a1)\n",
    "print('a2:\\n', a2)\n",
    "a3 = np.array([1,2,3,4,5])\n",
    "a4 = a3.copy()  # aqui o conteúdo de memoria foi copiado e criado um novo endereço\n",
    "a3[0] = 888\n",
    "print('a3:\\n', a3)\n",
    "print('a4:\\n', a4)\n"
   ]
  },
  {
   "cell_type": "code",
   "execution_count": null,
   "metadata": {},
   "outputs": [],
   "source": []
  }
 ],
 "metadata": {
  "kernelspec": {
   "display_name": "Python 3",
   "language": "python",
   "name": "python3"
  },
  "language_info": {
   "codemirror_mode": {
    "name": "ipython",
    "version": 3
   },
   "file_extension": ".py",
   "mimetype": "text/x-python",
   "name": "python",
   "nbconvert_exporter": "python",
   "pygments_lexer": "ipython3",
   "version": "3.7.0"
  }
 },
 "nbformat": 4,
 "nbformat_minor": 2
}
