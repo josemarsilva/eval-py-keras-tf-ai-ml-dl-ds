{
 "cells": [
  {
   "cell_type": "markdown",
   "metadata": {},
   "source": [
    "### Operador *relacional*"
   ]
  },
  {
   "cell_type": "code",
   "execution_count": 1,
   "metadata": {
    "scrolled": true
   },
   "outputs": [
    {
     "name": "stdout",
     "output_type": "stream",
     "text": [
      "False\n",
      "True\n",
      "False\n",
      "False\n"
     ]
    }
   ],
   "source": [
    "# == igualdade\n",
    "# >  maior que\n",
    "# <  menor que\n",
    "# != diferente\n",
    "# >= maior ou igual\n",
    "# <= menor ou igual\n",
    "\n",
    "# O resultado será sempre True ou Fase\n",
    "n1 = 10\n",
    "n2 = 20\n",
    "print (n1 >  n2 )\n",
    "print (n1 <  n2 )\n",
    "print (n1 == n2 )\n",
    "print (n1 >= n2 )"
   ]
  },
  {
   "cell_type": "code",
   "execution_count": 6,
   "metadata": {},
   "outputs": [
    {
     "name": "stdout",
     "output_type": "stream",
     "text": [
      "True\n",
      "False\n"
     ]
    }
   ],
   "source": [
    "a1 = 10\n",
    "a2 = 10\n",
    "print (a1 == a2)\n",
    "print (a1 != a2)"
   ]
  },
  {
   "cell_type": "markdown",
   "metadata": {},
   "source": [
    "###  Operador *aritmético*"
   ]
  },
  {
   "cell_type": "code",
   "execution_count": 4,
   "metadata": {},
   "outputs": [
    {
     "name": "stdout",
     "output_type": "stream",
     "text": [
      "30\n",
      "200\n",
      "1.0\n",
      "2\n",
      "0\n",
      "1024\n"
     ]
    }
   ],
   "source": [
    "# +, -, * , /\n",
    "# // duas barras é divisão somente parte inteira\n",
    "v1 = 10\n",
    "v2 = 20\n",
    "print ( v1 + v2 )\n",
    "print ( v1 * v2 )\n",
    "print ( v2 / v2 )  # resultado ponto flutuante\n",
    "print ( v2 // v1 ) # força divisão inteiro\n",
    "print ( v2 % v1 )  # resto da divisão\n",
    "base = 2\n",
    "expoente = 10\n",
    "resultado = base ** expoente  # exponenciação\n",
    "print (resultado)"
   ]
  },
  {
   "cell_type": "markdown",
   "metadata": {},
   "source": [
    "###  Operadores *lógico*"
   ]
  },
  {
   "cell_type": "code",
   "execution_count": 5,
   "metadata": {},
   "outputs": [
    {
     "name": "stdout",
     "output_type": "stream",
     "text": [
      "True\n",
      "False\n"
     ]
    }
   ],
   "source": [
    "# not -> não negação (operador unário, só precisa de um termo)\n",
    "# and -> conjunção\n",
    "# or  -> disjunção\n",
    "aprovado = True\n",
    "reprovado = not aprovado\n",
    "print(aprovado)\n",
    "print(reprovado )"
   ]
  },
  {
   "cell_type": "code",
   "execution_count": null,
   "metadata": {},
   "outputs": [],
   "source": []
  }
 ],
 "metadata": {
  "kernelspec": {
   "display_name": "Python 3",
   "language": "python",
   "name": "python3"
  },
  "language_info": {
   "codemirror_mode": {
    "name": "ipython",
    "version": 3
   },
   "file_extension": ".py",
   "mimetype": "text/x-python",
   "name": "python",
   "nbconvert_exporter": "python",
   "pygments_lexer": "ipython3",
   "version": "3.7.0"
  }
 },
 "nbformat": 4,
 "nbformat_minor": 2
}
