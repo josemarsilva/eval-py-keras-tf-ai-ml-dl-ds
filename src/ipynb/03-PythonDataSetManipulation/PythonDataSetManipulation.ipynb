{
 "cells": [
  {
   "cell_type": "markdown",
   "metadata": {},
   "source": [
    "# Python DataSet Manipulation"
   ]
  },
  {
   "cell_type": "markdown",
   "metadata": {},
   "source": [
    "# 1. Repositórios de DataSet\n",
    "\n",
    "https://archive.ics.uci.edu/ml/datasets/Iris"
   ]
  },
  {
   "cell_type": "markdown",
   "metadata": {},
   "source": [
    "# 2. Iris DataSet"
   ]
  },
  {
   "cell_type": "markdown",
   "metadata": {},
   "source": [
    "* Premissa: o arquivo `iris.data` encontra-se na pasta `data` tem 152 linhas, porém as últimas duas linhas são vazias."
   ]
  },
  {
   "cell_type": "code",
   "execution_count": 53,
   "metadata": {},
   "outputs": [
    {
     "name": "stdout",
     "output_type": "stream",
     "text": [
      "n-length:  151\n",
      "  0:  5.1,3.5,1.4,0.2,Iris-setosa\n",
      "  1:  4.9,3.0,1.4,0.2,Iris-setosa\n",
      "  2:  4.7,3.2,1.3,0.2,Iris-setosa\n",
      "  :    :\n",
      "150: 6.2,3.4,5.4,2.3,Iris-virginica\n",
      "149: 5.9,3.0,5.1,1.8,Iris-virginica\n",
      "150: \n"
     ]
    }
   ],
   "source": [
    "with open('data/iris.data', 'r') as file: \n",
    "    lista = file.read().splitlines()\n",
    "    print('n-length: ', len(lista))\n",
    "    print('  0: ', lista[0])\n",
    "    print('  1: ', lista[1])\n",
    "    print('  2: ', lista[2])\n",
    "    print('  :    :')\n",
    "    print('%s: %s' % ( len(lista)-1, lista[len(lista)-3] ))\n",
    "    print('%s: %s' % ( len(lista)-2, lista[len(lista)-2] ))\n",
    "    print('%s: %s' % ( len(lista)-1, lista[len(lista)-1] ))"
   ]
  },
  {
   "cell_type": "markdown",
   "metadata": {},
   "source": [
    "* Vamos limpar as linhas vazias no final do arquivo."
   ]
  },
  {
   "cell_type": "code",
   "execution_count": 64,
   "metadata": {},
   "outputs": [
    {
     "name": "stdout",
     "output_type": "stream",
     "text": [
      "Novo tamanho n-length:  149\n"
     ]
    }
   ],
   "source": [
    "ult_item_removido =  lista.pop()\n",
    "print('Novo tamanho n-length: ', len(lista))"
   ]
  },
  {
   "cell_type": "markdown",
   "metadata": {},
   "source": [
    "* Vamos descobrir o menor e o maior valor para: sepal-length, sepal-width, petal-length, petal-width"
   ]
  },
  {
   "cell_type": "code",
   "execution_count": 121,
   "metadata": {},
   "outputs": [
    {
     "name": "stdout",
     "output_type": "stream",
     "text": [
      "        +---------------------+---------------------+\n",
      "        |        length       |        width        |\n",
      "        +----------+----------+----------+----------+\n",
      "        |  min()   |  max()   |  min()   |  max()   |\n",
      "+-------+----------+----------+----------+----------+\n",
      "| Sepal | 4.300000 | 7.900000 | 2.000000 | 4.400000 |\n",
      "| Petal | 1.000000 | 6.900000 | 0.100000 | 2.500000 |\n",
      "+-------+----------+----------+----------+----------+\n"
     ]
    }
   ],
   "source": [
    "idxSepalLength = 0\n",
    "idxSepalWidth = 1\n",
    "idxPetalLength = 2\n",
    "idxPetalWidth = 3\n",
    "sepal_max_length = float(-9999999999)\n",
    "sepal_min_length = float( 9999999999)\n",
    "sepal_max_width = float(-9999999999)\n",
    "sepal_min_width = float( 9999999999)\n",
    "petal_max_length = float(-9999999999)\n",
    "petal_min_length = float( 9999999999)\n",
    "petal_max_width = float(-9999999999)\n",
    "petal_min_width = float( 9999999999)\n",
    "\n",
    "for item in lista:\n",
    "    \n",
    "    if float(item.split(',')[idxSepalLength]) > sepal_max_length:\n",
    "        sepal_max_length = float(item.split(',')[idxSepalLength])\n",
    "    if float(item.split(',')[idxSepalLength]) < sepal_min_length:\n",
    "        sepal_min_length = float(item.split(',')[idxSepalLength])\n",
    "        \n",
    "    if float(item.split(',')[idxPetalLength]) > petal_max_length:\n",
    "        petal_max_length = float(item.split(',')[idxPetalLength])\n",
    "    if float(item.split(',')[idxPetalLength]) < petal_min_length:\n",
    "        petal_min_length = float(item.split(',')[idxPetalLength])\n",
    "\n",
    "    if float(item.split(',')[idxSepalWidth]) > sepal_max_width:\n",
    "        sepal_max_width = float(item.split(',')[idxSepalWidth])\n",
    "    if float(item.split(',')[idxSepalWidth]) < sepal_min_width:\n",
    "        sepal_min_width = float(item.split(',')[idxSepalWidth])\n",
    "        \n",
    "    if float(item.split(',')[idxPetalWidth]) > petal_max_width:\n",
    "        petal_max_width = float(item.split(',')[idxPetalWidth])\n",
    "    if float(item.split(',')[idxPetalWidth]) < petal_min_width:\n",
    "        petal_min_width = float(item.split(',')[idxPetalWidth])\n",
    "\n",
    "\n",
    "print('        +---------------------+---------------------+')\n",
    "print('        |        length       |        width        |')\n",
    "print('        +----------+----------+----------+----------+')\n",
    "print('        |  min()   |  max()   |  min()   |  max()   |')\n",
    "print('+-------+----------+----------+----------+----------+')\n",
    "print('| Sepal | %f | %f | %f | %f |' % (sepal_min_length, sepal_max_length, sepal_min_width, sepal_max_width))\n",
    "print('| Petal | %f | %f | %f | %f |' % (petal_min_length, petal_max_length, petal_min_width, petal_max_width))\n",
    "print('+-------+----------+----------+----------+----------+')\n"
   ]
  },
  {
   "cell_type": "code",
   "execution_count": null,
   "metadata": {},
   "outputs": [],
   "source": []
  },
  {
   "cell_type": "code",
   "execution_count": null,
   "metadata": {},
   "outputs": [],
   "source": []
  }
 ],
 "metadata": {
  "kernelspec": {
   "display_name": "Python 3",
   "language": "python",
   "name": "python3"
  },
  "language_info": {
   "codemirror_mode": {
    "name": "ipython",
    "version": 3
   },
   "file_extension": ".py",
   "mimetype": "text/x-python",
   "name": "python",
   "nbconvert_exporter": "python",
   "pygments_lexer": "ipython3",
   "version": "3.7.0"
  }
 },
 "nbformat": 4,
 "nbformat_minor": 2
}
