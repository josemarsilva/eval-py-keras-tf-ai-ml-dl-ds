{
 "cells": [
  {
   "cell_type": "markdown",
   "metadata": {},
   "source": [
    "# Criando Módulos"
   ]
  },
  {
   "cell_type": "code",
   "execution_count": null,
   "metadata": {},
   "outputs": [],
   "source": [
    "def area_quadrado(lado):\n",
    "    return lado * lado\n",
    "\n",
    "def area_retangulo(lado1, lado2):\n",
    "    return lado1 * lado2\n",
    "\n",
    "def perimetro_quadrado(lado):\n",
    "    return 4 * lado\n",
    "\n",
    "# agora coloque estas 3 funções em um arquivo chamado my_module.py\n"
   ]
  },
  {
   "cell_type": "code",
   "execution_count": 5,
   "metadata": {},
   "outputs": [],
   "source": [
    "# Então vamos forçar o Jupyter-Notebook a rei\n",
    "# Menu Kernel >> Restart & Clear Output"
   ]
  },
  {
   "cell_type": "markdown",
   "metadata": {},
   "source": [
    "Se você estiver usando o Jupyter-Notebook Então Faca:\n",
    "```python\n",
    "%load my_module.py\n",
    "```"
   ]
  },
  {
   "cell_type": "code",
   "execution_count": 2,
   "metadata": {},
   "outputs": [],
   "source": [
    "# %load my_module.py\n",
    "def area_quadrado(lado):\n",
    "    return lado * lado\n",
    "\n",
    "def area_retangulo(lado1, lado2):\n",
    "    return lado1 * lado2\n",
    "\n",
    "def perimetro_quadrado(lado):\n",
    "    return 4 * lado\n",
    "\n"
   ]
  },
  {
   "cell_type": "code",
   "execution_count": 3,
   "metadata": {},
   "outputs": [
    {
     "name": "stdout",
     "output_type": "stream",
     "text": [
      "4\n",
      "12\n",
      "12\n"
     ]
    }
   ],
   "source": [
    "print(area_quadrado(2))\n",
    "print(area_retangulo(3,4))\n",
    "print(perimetro_quadrado(3))"
   ]
  },
  {
   "cell_type": "code",
   "execution_count": 8,
   "metadata": {},
   "outputs": [
    {
     "name": "stdout",
     "output_type": "stream",
     "text": [
      "factorial:  120\n",
      "sqrt:  5.0\n"
     ]
    }
   ],
   "source": [
    "import math\n",
    "print('factorial: ', math.factorial(5))\n",
    "print('sqrt: ', math.sqrt(25))"
   ]
  },
  {
   "cell_type": "code",
   "execution_count": null,
   "metadata": {},
   "outputs": [],
   "source": []
  }
 ],
 "metadata": {
  "kernelspec": {
   "display_name": "Python 3",
   "language": "python",
   "name": "python3"
  },
  "language_info": {
   "codemirror_mode": {
    "name": "ipython",
    "version": 3
   },
   "file_extension": ".py",
   "mimetype": "text/x-python",
   "name": "python",
   "nbconvert_exporter": "python",
   "pygments_lexer": "ipython3",
   "version": "3.7.0"
  }
 },
 "nbformat": 4,
 "nbformat_minor": 2
}
