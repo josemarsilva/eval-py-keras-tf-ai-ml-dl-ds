{
 "cells": [
  {
   "cell_type": "markdown",
   "metadata": {},
   "source": [
    "# Criando Funções"
   ]
  },
  {
   "cell_type": "code",
   "execution_count": 4,
   "metadata": {},
   "outputs": [
    {
     "name": "stdout",
     "output_type": "stream",
     "text": [
      "resultado da funcao : 3\n"
     ]
    }
   ],
   "source": [
    "def somar(n1, n2):\n",
    "    return n1 + n2\n",
    "\n",
    "print('resultado da funcao :' , somar( 1, 2) )"
   ]
  },
  {
   "cell_type": "code",
   "execution_count": 6,
   "metadata": {},
   "outputs": [
    {
     "name": "stdout",
     "output_type": "stream",
     "text": [
      "qualquer_coisa\n"
     ]
    }
   ],
   "source": [
    "def retorna_qualquer_coisa():\n",
    "    return \"qualquer_coisa\"\n",
    "\n",
    "print ( retorna_qualquer_coisa() )"
   ]
  },
  {
   "cell_type": "code",
   "execution_count": 7,
   "metadata": {},
   "outputs": [
    {
     "name": "stdout",
     "output_type": "stream",
     "text": [
      "False\n",
      "True\n"
     ]
    }
   ],
   "source": [
    "def eh_par(n):\n",
    "    return n % 2 == 0;\n",
    "\n",
    "print(eh_par(1));\n",
    "print(eh_par(2));\n"
   ]
  },
  {
   "cell_type": "code",
   "execution_count": 10,
   "metadata": {},
   "outputs": [
    {
     "name": "stdout",
     "output_type": "stream",
     "text": [
      "somatorio:  55\n"
     ]
    }
   ],
   "source": [
    "def somatorio(*args): # número de parâmetros é dinâmmico\n",
    "    return sum(args)\n",
    "\n",
    "print('somatorio: ', somatorio(1,2,3,4,5,6,7,8,9,10))"
   ]
  },
  {
   "cell_type": "code",
   "execution_count": 13,
   "metadata": {},
   "outputs": [
    {
     "name": "stdout",
     "output_type": "stream",
     "text": [
      "None\n"
     ]
    }
   ],
   "source": [
    "def esqueci_de_retornar(n1,n2):\n",
    "    aval = n1 == n2\n",
    "\n",
    "print(esqueci_de_retornar(1, 2))"
   ]
  },
  {
   "cell_type": "code",
   "execution_count": 16,
   "metadata": {},
   "outputs": [
    {
     "name": "stdout",
     "output_type": "stream",
     "text": [
      "hello world\n"
     ]
    }
   ],
   "source": [
    "imprimir = print\n",
    "imprimir('hello world')"
   ]
  },
  {
   "cell_type": "code",
   "execution_count": 20,
   "metadata": {},
   "outputs": [
    {
     "name": "stdout",
     "output_type": "stream",
     "text": [
      "Fatorial de 5:  120\n"
     ]
    }
   ],
   "source": [
    "def fat(n):\n",
    "    if (n == 0 or n == 1):\n",
    "        return 1\n",
    "    return n * fat(n-1)\n",
    "\n",
    "print('Fatorial de 5: ', fat(5))"
   ]
  },
  {
   "cell_type": "code",
   "execution_count": 22,
   "metadata": {},
   "outputs": [
    {
     "name": "stdout",
     "output_type": "stream",
     "text": [
      "dobro de 1: 2\n",
      "dobro de 10: 20\n"
     ]
    }
   ],
   "source": [
    "# Função Lambda que retorna o dobro de um valor\n",
    "dobro = lambda x: x*2\n",
    "\n",
    "print('dobro de 1:', dobro(1))\n",
    "print('dobro de 10:', dobro(10))"
   ]
  },
  {
   "cell_type": "code",
   "execution_count": null,
   "metadata": {},
   "outputs": [],
   "source": []
  }
 ],
 "metadata": {
  "kernelspec": {
   "display_name": "Python 3",
   "language": "python",
   "name": "python3"
  },
  "language_info": {
   "codemirror_mode": {
    "name": "ipython",
    "version": 3
   },
   "file_extension": ".py",
   "mimetype": "text/x-python",
   "name": "python",
   "nbconvert_exporter": "python",
   "pygments_lexer": "ipython3",
   "version": "3.7.0"
  }
 },
 "nbformat": 4,
 "nbformat_minor": 2
}
