{
 "cells": [
  {
   "cell_type": "markdown",
   "metadata": {},
   "source": [
    "# Orientação Objeto"
   ]
  },
  {
   "cell_type": "code",
   "execution_count": 11,
   "metadata": {},
   "outputs": [
    {
     "name": "stdout",
     "output_type": "stream",
     "text": [
      "josemar\n"
     ]
    }
   ],
   "source": [
    "class Pessoa:\n",
    "    \n",
    "    def __init__(self,nome,idade):\n",
    "        self.nome = nome\n",
    "        self.idade = idade\n",
    "        \n",
    "    def imprimir_nome(self):\n",
    "        print(self.nome)\n",
    "\n",
    "\n",
    "p = Pessoa('josemar', 49)\n",
    "p.imprimir_nome()"
   ]
  },
  {
   "cell_type": "code",
   "execution_count": 12,
   "metadata": {},
   "outputs": [
    {
     "data": {
      "text/plain": [
       "dict"
      ]
     },
     "execution_count": 12,
     "metadata": {},
     "output_type": "execute_result"
    }
   ],
   "source": [
    "d = {'josemar':49, 'maria':46}\n",
    "type(d)"
   ]
  },
  {
   "cell_type": "code",
   "execution_count": 28,
   "metadata": {},
   "outputs": [
    {
     "name": "stdout",
     "output_type": "stream",
     "text": [
      "Titular: josemar\n",
      "No.Conta: 1234-5\n",
      "Limite: 100\n",
      "type do objeto conta: <class '__main__.ContaEspecial'>\n"
     ]
    }
   ],
   "source": [
    "class Conta:\n",
    "    \n",
    "    def __init__(self, nome_cliente, numero_conta):\n",
    "        self.nome_cliente = nome_cliente\n",
    "        self.numero_conta = numero_conta\n",
    "\n",
    "class  ContaEspecial(Conta): # herda da superclasse Conta\n",
    "    \n",
    "    def __init__(self, nome_cliente, numero_conta, limite=0):\n",
    "        Conta.__init__(self, nome_cliente, numero_conta) # acionando o construtor da superclasse\n",
    "        self.limite = limite\n",
    "        \n",
    "conta = ContaEspecial( 'josemar', '1234-5', 100)\n",
    "print('Titular:', conta.nome_cliente)\n",
    "print('No.Conta:', conta.numero_conta)\n",
    "print('Limite:', conta.limite)\n",
    "\n",
    "print('type do objeto conta:', type(conta))\n"
   ]
  },
  {
   "cell_type": "code",
   "execution_count": null,
   "metadata": {},
   "outputs": [],
   "source": [
    "\n"
   ]
  }
 ],
 "metadata": {
  "kernelspec": {
   "display_name": "Python 3",
   "language": "python",
   "name": "python3"
  },
  "language_info": {
   "codemirror_mode": {
    "name": "ipython",
    "version": 3
   },
   "file_extension": ".py",
   "mimetype": "text/x-python",
   "name": "python",
   "nbconvert_exporter": "python",
   "pygments_lexer": "ipython3",
   "version": "3.7.0"
  }
 },
 "nbformat": 4,
 "nbformat_minor": 2
}
