{
 "cells": [
  {
   "cell_type": "markdown",
   "metadata": {},
   "source": [
    "# Conjuntos"
   ]
  },
  {
   "cell_type": "code",
   "execution_count": 2,
   "metadata": {},
   "outputs": [
    {
     "name": "stdout",
     "output_type": "stream",
     "text": [
      "{10, 20, 30}\n"
     ]
    }
   ],
   "source": [
    "s = set()\n",
    "s.add(10)\n",
    "s.add(20)\n",
    "s.add(20) # repetido será ignorado\n",
    "s.add(30)\n",
    "s.add(30) # repetido será ignorado\n",
    "s.add(30) # repetido será ignorado\n",
    "print(s)"
   ]
  },
  {
   "cell_type": "code",
   "execution_count": 14,
   "metadata": {},
   "outputs": [
    {
     "name": "stdout",
     "output_type": "stream",
     "text": [
      "Uniao:  {1, 2, 3, 4, 5, 6, 7, 8}\n",
      "Intersection:  {4}\n",
      "Difference:  {1, 2, 3}\n"
     ]
    }
   ],
   "source": [
    "s1 = {2,1,3,4}\n",
    "s2 = {4,7,5,6,8}\n",
    "uniao = s1.union(s2)\n",
    "print('Uniao: ', uniao)\n",
    "itersecao = s1.intersection(s2)\n",
    "print('Intersection: ', itersecao)\n",
    "diferenca = s1.difference(s2)\n",
    "print('Difference: ', diferenca)"
   ]
  },
  {
   "cell_type": "code",
   "execution_count": 19,
   "metadata": {},
   "outputs": [
    {
     "name": "stdout",
     "output_type": "stream",
     "text": [
      "Lista:  [1, 2, 2, 3, 3, 3, 4, 4, 4, 4, 5, 5, 5, 5, 5, 0, -1, -2, -2, -3, -3, -3]\n",
      "Conjunto:  {0, 1, 2, 3, 4, 5, -2, -3, -1}\n",
      "Lista2:  [0, 1, 2, 3, 4, 5, -2, -3, -1]\n"
     ]
    }
   ],
   "source": [
    "lista = [1,2,2,3,3,3,4,4,4,4,5,5,5,5,5,0,-1,-2,-2,-3,-3,-3]\n",
    "conjunto = set(lista)\n",
    "print('Lista: ', lista)\n",
    "print('Conjunto: ', conjunto)\n",
    "lista2 = list(conjunto)\n",
    "print('Lista2: ', lista2)"
   ]
  },
  {
   "cell_type": "code",
   "execution_count": null,
   "metadata": {},
   "outputs": [],
   "source": []
  }
 ],
 "metadata": {
  "kernelspec": {
   "display_name": "Python 3",
   "language": "python",
   "name": "python3"
  },
  "language_info": {
   "codemirror_mode": {
    "name": "ipython",
    "version": 3
   },
   "file_extension": ".py",
   "mimetype": "text/x-python",
   "name": "python",
   "nbconvert_exporter": "python",
   "pygments_lexer": "ipython3",
   "version": "3.7.0"
  }
 },
 "nbformat": 4,
 "nbformat_minor": 2
}
