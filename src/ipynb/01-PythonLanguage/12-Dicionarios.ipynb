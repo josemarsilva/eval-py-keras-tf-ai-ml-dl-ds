{
 "cells": [
  {
   "cell_type": "markdown",
   "metadata": {},
   "source": [
    "# Dicionários"
   ]
  },
  {
   "cell_type": "code",
   "execution_count": 20,
   "metadata": {},
   "outputs": [
    {
     "name": "stdout",
     "output_type": "stream",
     "text": [
      "dicionário todo:  {'josemar': 49, 'maria': 45, 'guilherme': 25, 'gabrielle': 17}\n",
      "indexando pela chave 25\n",
      "todo dicionário novamente:  {'josemar': 49, 'maria': 45, 'guilherme': 25, 'gabrielle': 17, 'melanie': 'pet da família'}\n",
      "chaves dos elementos:  josemar maria guilherme gabrielle melanie \n",
      "valores dos elementos 49 45 25 17 pet da família Imprimir os elementos do dicionário de uma vez só:  dict_items([('josemar', 49), ('maria', 45), ('guilherme', 25), ('gabrielle', 17), ('melanie', 'pet da família')])\n",
      "Imprimir as chaves do dicionário de uma vez só:  dict_keys(['josemar', 'maria', 'guilherme', 'gabrielle', 'melanie'])\n",
      "Imprimir os valores do dicionário de uma vez só:  dict_values([49, 45, 25, 17, 'pet da família'])\n"
     ]
    }
   ],
   "source": [
    "d = {'josemar': 49, 'maria': 45, 'guilherme': 25, 'gabrielle': 17}\n",
    "print('dicionário todo: ', d)\n",
    "print('indexando pela chave', d['guilherme']) # se a chave não existir vai dar erro\n",
    "d['melanie'] = 'pet da família' # dicionários são mutáveis, podem receber alterações e são heterogêneos\n",
    "print('todo dicionário novamente: ', d)\n",
    "\n",
    "print('chaves dos elementos: ', end=' ')\n",
    "for e in d:\n",
    "    print(e, end=' ')\n",
    "\n",
    "print('')\n",
    "print('valores dos elementos', end=' ')\n",
    "for e in d:\n",
    "    print(d[e], end=' ')\n",
    "\n",
    "\n",
    "print('Imprimir os elementos do dicionário de uma vez só: ', d.items() )\n",
    "print('Imprimir as chaves do dicionário de uma vez só: ', d.keys() )\n",
    "print('Imprimir os valores do dicionário de uma vez só: ', d.values() )\n"
   ]
  },
  {
   "cell_type": "code",
   "execution_count": 27,
   "metadata": {},
   "outputs": [
    {
     "name": "stdout",
     "output_type": "stream",
     "text": [
      "maria está no dicionário?  True\n",
      "inexiste está no dicionário? False\n"
     ]
    }
   ],
   "source": [
    "print( 'maria está no dicionário? ', 'maria' in d )\n",
    "print( 'inexiste está no dicionário?' , 'inexiste' in d )"
   ]
  },
  {
   "cell_type": "code",
   "execution_count": null,
   "metadata": {},
   "outputs": [],
   "source": []
  }
 ],
 "metadata": {
  "kernelspec": {
   "display_name": "Python 3",
   "language": "python",
   "name": "python3"
  },
  "language_info": {
   "codemirror_mode": {
    "name": "ipython",
    "version": 3
   },
   "file_extension": ".py",
   "mimetype": "text/x-python",
   "name": "python",
   "nbconvert_exporter": "python",
   "pygments_lexer": "ipython3",
   "version": "3.7.0"
  }
 },
 "nbformat": 4,
 "nbformat_minor": 2
}
