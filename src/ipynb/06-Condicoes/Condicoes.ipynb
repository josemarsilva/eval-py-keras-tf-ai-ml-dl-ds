{
 "cells": [
  {
   "cell_type": "markdown",
   "metadata": {},
   "source": [
    "# Condições"
   ]
  },
  {
   "cell_type": "code",
   "execution_count": 1,
   "metadata": {},
   "outputs": [
    {
     "name": "stdout",
     "output_type": "stream",
     "text": [
      "Maior de idade\n"
     ]
    }
   ],
   "source": [
    "idade = 20\n",
    "if (idade >= 18):\n",
    "   print ('Maior de idade')\n",
    "else:\n",
    "  print ('Menor de idade')\n"
   ]
  },
  {
   "cell_type": "code",
   "execution_count": 2,
   "metadata": {},
   "outputs": [
    {
     "name": "stdout",
     "output_type": "stream",
     "text": [
      "Adulto\n"
     ]
    }
   ],
   "source": [
    "idade = 20\n",
    "if (idade >= 18):\n",
    "    if (idade >= 60 ):\n",
    "        print( 'Idoso')\n",
    "    else:\n",
    "        print ('Adulto')\n",
    "else:\n",
    "  print ('Menor de idade')"
   ]
  },
  {
   "cell_type": "code",
   "execution_count": 9,
   "metadata": {},
   "outputs": [
    {
     "name": "stdout",
     "output_type": "stream",
     "text": [
      "Preco é 30\n"
     ]
    }
   ],
   "source": [
    "opcao = 3\n",
    "if (opcao == 1):\n",
    "    preco = 15\n",
    "elif (opcao == 2):\n",
    "    preco = 20\n",
    "elif (opcao == 3):\n",
    "    preco = 30\n",
    "else:\n",
    "    preco = 50\n",
    "print( 'Preco é %i' % preco)"
   ]
  },
  {
   "cell_type": "code",
   "execution_count": null,
   "metadata": {},
   "outputs": [],
   "source": []
  }
 ],
 "metadata": {
  "kernelspec": {
   "display_name": "Python 3",
   "language": "python",
   "name": "python3"
  },
  "language_info": {
   "codemirror_mode": {
    "name": "ipython",
    "version": 3
   },
   "file_extension": ".py",
   "mimetype": "text/x-python",
   "name": "python",
   "nbconvert_exporter": "python",
   "pygments_lexer": "ipython3",
   "version": "3.7.0"
  }
 },
 "nbformat": 4,
 "nbformat_minor": 2
}
