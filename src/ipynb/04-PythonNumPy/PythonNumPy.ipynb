{
 "cells": [
  {
   "cell_type": "markdown",
   "metadata": {},
   "source": [
    "# Python - NumPy"
   ]
  },
  {
   "cell_type": "markdown",
   "metadata": {},
   "source": [
    "# 1. Introdução\n",
    "\n",
    "NumPy é um pacote de computação científica com Python. É muito poderoso, você pode construir um objeto array n-dimensional. Ele é baseado em C, portanto é performático.\n",
    "\n",
    "* Para instalar você deve fazer:\n",
    "```cmd\n",
    "pip install numpy\n",
    "```"
   ]
  },
  {
   "cell_type": "markdown",
   "metadata": {},
   "source": [
    "# 2. Guia de Uso "
   ]
  },
  {
   "cell_type": "markdown",
   "metadata": {},
   "source": [
    "## 2.1. Import\n",
    "* Para utilizar você deve importar a biblioteca numpy \n",
    "```cmd\n",
    "import numpy # opcionalmente você pode dar um apelido. Ex: import numpy as np\n",
    "```"
   ]
  },
  {
   "cell_type": "markdown",
   "metadata": {},
   "source": [
    "## 2.2. Criando um Array em Numpy"
   ]
  },
  {
   "cell_type": "code",
   "execution_count": 1,
   "metadata": {},
   "outputs": [
    {
     "name": "stdout",
     "output_type": "stream",
     "text": [
      "classe:  <class 'numpy.ndarray'> - conteúdo:  [10 20 30 40]\n"
     ]
    }
   ],
   "source": [
    "import numpy # aqui pode se dar um apelido exemplo np\n",
    "a = numpy.array([10,20,30,40])\n",
    "print('classe: ', type(a), '- conteúdo: ', a)"
   ]
  },
  {
   "cell_type": "markdown",
   "metadata": {},
   "source": [
    "## 2.3. Matrizes n-dimensional\n",
    "* Criação, inicialização\n",
    "* Acessando elementos (n, m)\n",
    "* Acessando a linha toda ou a coluna toda\n",
    "* Transposição da matriz\n",
    "* Operações com matrizes: soma, subtração, multiplicação\n",
    "* Soma de elementos de um array n-dimensional\n",
    "* Maior e Menor elemento de um array n-dimensional"
   ]
  },
  {
   "cell_type": "code",
   "execution_count": 2,
   "metadata": {},
   "outputs": [
    {
     "name": "stdout",
     "output_type": "stream",
     "text": [
      "Elemento da 2a linha e 2a coluna:  4\n",
      "... também é possível:  4\n",
      "Segunda linha da matriz:  [[3 4]]\n",
      "Primeira coluna da matriz:  [1 3]\n",
      "Matriz Transposta: \n",
      "[[1 3]\n",
      " [2 4]]\n",
      "\n",
      "Operações com matrizes: \n",
      "m1:\n",
      " [[1 2 3]\n",
      " [4 5 6]]\n",
      "m2:\n",
      " [[ 7  8  9]\n",
      " [10 11 12]]\n",
      "m1+m2:\n",
      " [[ 8 10 12]\n",
      " [14 16 18]]\n",
      "m2-m1:\n",
      " [[6 6 6]\n",
      " [6 6 6]]\n",
      "m1*m2:\n",
      " [[ 7 16 27]\n",
      " [40 55 72]]\n",
      "a1:\n",
      " [1 2 3 4 5 6]\n",
      "array - a1.sum():  21\n",
      "matriz - m1.sum(): 21\n",
      "array - a1.argmax() 5  - atenção que o retorno é o índice do array\n",
      "array - a1.argmin() 0  - atenção que o retorno é o índice do array\n"
     ]
    }
   ],
   "source": [
    "m = numpy.array([(1,2),(3,4)])\n",
    "print('Elemento da 2a linha e 2a coluna: ', m[1][1]) # lembrando que a indexação é a partir do 0\n",
    "print('... também é possível: ', m[-1][-1])          # também posso acessar pela última linha\n",
    "print('Segunda linha da matriz: ', m[1:])            # acessando toda a última linha\n",
    "print('Primeira coluna da matriz: ', m[:,0])         # acessando toda a primeira coluna\n",
    "print('Matriz Transposta: ')\n",
    "print(m.transpose())        # matriz transposta\n",
    "m1 = numpy.array([(1,2,3),(4,5,6)])\n",
    "m2 = numpy.array([(7,8,9),(10,11,12)])\n",
    "print('\\nOperações com matrizes: ')\n",
    "print('m1:\\n', m1)\n",
    "print('m2:\\n', m2)\n",
    "print('m1+m2:\\n', m1+m2)\n",
    "print('m2-m1:\\n', m2-m1) # elemento por elemento a diferença\n",
    "print('m1*m2:\\n', m1*m2) # lembrando que número de colunas de m1 tem que ser igual ao número de colunas de m2\n",
    "a1 = numpy.array([1,2,3,4,5,6])\n",
    "print('a1:\\n', a1)\n",
    "print('array - a1.sum(): ', a1.sum())\n",
    "print('matriz - m1.sum():', m1.sum())\n",
    "print('array - a1.argmax()', a1.argmax(), ' - atenção que o retorno é o índice do array')\n",
    "print('array - a1.argmin()', a1.argmin(), ' - atenção que o retorno é o índice do array')\n"
   ]
  },
  {
   "cell_type": "markdown",
   "metadata": {},
   "source": [
    "## 2.4. NumPy Array vs Listas do Python\n",
    "* NumPy Arrays são mais compactos - consomem menos memória\n",
    "* NumPy Arrays são mais eficientes - acessos leituras e escritas são muito mais rápidos\n",
    "* Para computação científica vale muito a pena uso do NumPy"
   ]
  },
  {
   "cell_type": "code",
   "execution_count": 3,
   "metadata": {},
   "outputs": [
    {
     "name": "stdout",
     "output_type": "stream",
     "text": [
      "Média (mean):\n",
      " 5.0\n",
      "Diagonal:\n",
      " [2 8]\n"
     ]
    }
   ],
   "source": [
    "import numpy as np\n",
    "m1 = np.array([(2,4),(6,8)])\n",
    "# abaixo digite \"a.\" em seguida <TAB> e mostra a lista de operações que você pode fazer com NumPy\n",
    "print('Média (mean):\\n', m1.mean())\n",
    "print('Diagonal:\\n', m1.diagonal())"
   ]
  },
  {
   "cell_type": "code",
   "execution_count": 4,
   "metadata": {},
   "outputs": [],
   "source": [
    "lista = [1, 2, 3, 'josemar']\n",
    "# abaixo digite \"lista.\" em seguida <TAB>"
   ]
  },
  {
   "cell_type": "markdown",
   "metadata": {},
   "source": [
    "## 2.5. Eficiência do NumPy - `numpy.arange()`\n",
    "* O NumPy é muito mais eficiente nas interaçoes: Soma de elementos"
   ]
  },
  {
   "cell_type": "code",
   "execution_count": 7,
   "metadata": {},
   "outputs": [
    {
     "name": "stdout",
     "output_type": "stream",
     "text": [
      "Elapsed time : 13.541425704956055  seconds\n"
     ]
    }
   ],
   "source": [
    "import time\n",
    "import sys\n",
    "\n",
    "start = time.time()\n",
    "\n",
    "soma = 0\n",
    "for i in range(1, 100000001): # 1 seguido de 7 x zeros + 1\n",
    "    soma += i\n",
    "\n",
    "print('Elapsed time :', time.time()-start, ' secs')"
   ]
  },
  {
   "cell_type": "code",
   "execution_count": 8,
   "metadata": {},
   "outputs": [
    {
     "name": "stdout",
     "output_type": "stream",
     "text": [
      "Elapsed time : 0.2754549980163574  secs\n"
     ]
    }
   ],
   "source": [
    "import numpy as np\n",
    "import time\n",
    "\n",
    "start = time.time()\n",
    "\n",
    "np.arange(1,100000001).sum()\n",
    "\n",
    "print('Elapsed time :', time.time()-start, ' secs')"
   ]
  },
  {
   "cell_type": "markdown",
   "metadata": {},
   "source": [
    "## 2.6. Fatiamento (Slice) em NumPy - `[1:]`, `[:1]`, `[::2]`"
   ]
  },
  {
   "cell_type": "code",
   "execution_count": 9,
   "metadata": {},
   "outputs": [
    {
     "name": "stdout",
     "output_type": "stream",
     "text": [
      "Lista - Fatiamento - do índice 1 ao índice 1 (aberto) [20]\n",
      "Lista - Fatiamento - o terceiro termo é o salto [10, 30]\n"
     ]
    }
   ],
   "source": [
    "lista = [10, 20, 30, 40]\n",
    "print('Lista - Fatiamento - do índice 1 ao índice 1 (aberto)', lista[1:2]) # >= i && < j\n",
    "print('Lista - Fatiamento - o terceiro termo é o salto', lista[::2])       # a partir do primeiro elemento, até o final, saltando 2 posições\n"
   ]
  },
  {
   "cell_type": "code",
   "execution_count": 10,
   "metadata": {},
   "outputs": [
    {
     "name": "stdout",
     "output_type": "stream",
     "text": [
      "NumPy - Fatiamento - do indice 1 [20]\n",
      "NumPy - Fatiamento - o terceiro termo é o salto [10 30]\n"
     ]
    }
   ],
   "source": [
    "import numpy as np\n",
    "a = np.array(lista)\n",
    "print('NumPy - Fatiamento - do indice 1', a[1:2])\n",
    "print('NumPy - Fatiamento - o terceiro termo é o salto', a[::2])"
   ]
  },
  {
   "cell_type": "markdown",
   "metadata": {},
   "source": [
    "## 2.7. NumPy vs Lista - Cópia do conteúdo vs cópia do Label (endereço de memória)\n",
    "* Usando Listas a atribuição de uma nova lista consiste na criação de um ponteiro para o mesmo elemento\n",
    "* Usando NumPy Array a atribuição de um novo array implica também na criação de um ponteiro para o mesmo elemento\n",
    "* Usando NumPy Array, para se tirar uma cópia do dados, de forma que se eles forem alterados não impactar o objeto original, isto deve ser feito com copy"
   ]
  },
  {
   "cell_type": "code",
   "execution_count": 11,
   "metadata": {},
   "outputs": [
    {
     "name": "stdout",
     "output_type": "stream",
     "text": [
      "l1:\n",
      " [999, 2, 3, 4, 5]\n",
      "l2:\n",
      " [999, 2, 3, 4, 5]\n",
      "a1:\n",
      " [999   2   3   4   5]\n",
      "a2:\n",
      " [999   2   3   4   5]\n",
      "a3:\n",
      " [888   2   3   4   5]\n",
      "a4:\n",
      " [1 2 3 4 5]\n"
     ]
    }
   ],
   "source": [
    "l1 = [1,2,3,4,5]\n",
    "l2 = l1 # Em listas a atribuição é apenas um novo rótulo para o mesmo objeto\n",
    "l1[0] = 999 # veja que a atribuição foi feita em l1 mas também afeta l2\n",
    "print('l1:\\n', l1) \n",
    "print('l2:\\n', l2)\n",
    "\n",
    "import numpy as np\n",
    "a1 = np.array([1,2,3,4,5])\n",
    "a2 = a1[:]\n",
    "a2[0] = 999\n",
    "print('a1:\\n', a1)\n",
    "print('a2:\\n', a2)\n",
    "a3 = np.array([1,2,3,4,5])\n",
    "a4 = a3.copy()  # aqui o conteúdo de memoria foi copiado e criado um novo endereço\n",
    "a3[0] = 888\n",
    "print('a3:\\n', a3)\n",
    "print('a4:\\n', a4)\n"
   ]
  },
  {
   "cell_type": "markdown",
   "metadata": {},
   "source": [
    "## 2.8. NumPy `linspace` - espacamento linear entre dois elementos\n",
    "* A funçao `linespace()` gera automanticamente um espaçamento linear entre dois números"
   ]
  },
  {
   "cell_type": "code",
   "execution_count": 12,
   "metadata": {},
   "outputs": [
    {
     "name": "stdout",
     "output_type": "stream",
     "text": [
      "a:  [2 3 4]\n",
      "b:  [ 1  3  5  7  9 11]\n",
      "c:  [ 1.   3.2  5.4  7.6  9.8 12. ]\n",
      "d:  [1.  1.5 2. ]\n"
     ]
    }
   ],
   "source": [
    "import numpy as np\n",
    "a = np.array([2,3,4])\n",
    "print('a: ', a)\n",
    "b = np.arange(1,12,2) # de 1 a 12, com  saltando de 2 em 2\n",
    "print('b: ' , b)\n",
    "c = np.linspace(1,12,6) # de 1 a 12, com 6 elementos distribuidos linearmente\n",
    "print('c: ', c)\n",
    "d = np.linspace(1,2,3) # de 1 a 2, com 3 elementos\n",
    "print('d: ', d)"
   ]
  },
  {
   "cell_type": "markdown",
   "metadata": {},
   "source": [
    "## 2.9. NumPy `reshape()`, `shape` e `ndim()` - remodelando as dimensões de array\n",
    "* Como os dados são armazenados de forma contíguas, as transformações do tipo um vetor n dimensões ser convertido em uma matriz de n/2 x m"
   ]
  },
  {
   "cell_type": "code",
   "execution_count": 13,
   "metadata": {},
   "outputs": [
    {
     "name": "stdout",
     "output_type": "stream",
     "text": [
      "a:  [ 1.   3.2  5.4  7.6  9.8 12. ]\n",
      "b:  [[ 1.   3.2]\n",
      " [ 5.4  7.6]\n",
      " [ 9.8 12. ]]\n",
      "c:  [[ 1.   3.2  5.4  7.6  9.8 12. ]]\n",
      "a.shape:  (6,)\n",
      "b.shape:  (3, 2)\n",
      "c.shape:  (1, 6)\n",
      "a.ndim:  1\n",
      "b.ndim:  2\n",
      "c.ndim:  2\n"
     ]
    }
   ],
   "source": [
    "a = np.linspace(1,12,6) # de 1 a 12, com 6 elementos distribuidos linearmente\n",
    "print('a: ', a)\n",
    "b = a.reshape(3,2) # remodela o vetor de 6 posiçoes para uma matriz de 3x2\n",
    "print('b: ', b)\n",
    "c = b.reshape(1,6) # remodela a matriz devolta para o vetor (matriz de 1 x n)\n",
    "print('c: ', c)\n",
    "print('a.shape: ', a.shape)\n",
    "print('b.shape: ', b.shape)\n",
    "print('c.shape: ', c.shape)\n",
    "print('a.ndim: ', a.ndim)\n",
    "print('b.ndim: ', b.ndim)\n",
    "print('c.ndim: ', c.ndim)"
   ]
  },
  {
   "cell_type": "markdown",
   "metadata": {},
   "source": [
    "## 2.10. NumPy `size()` - número total de elementos do array e `itemsize`\n",
    "* a função `size()` retorna o número de elementos de um array\n",
    "* a função `itemsize()` retorna o tamanho em bytes de __cada__ elemento do array. Em um array de elementos do tipo float64 o `itemsize` 8 (=64/8), enquanto o tipo complex32 tem `itemsize` 4 (=32/8). Isto é equivalente a `ndarray.dtype.itemsize`"
   ]
  },
  {
   "cell_type": "code",
   "execution_count": 14,
   "metadata": {},
   "outputs": [
    {
     "name": "stdout",
     "output_type": "stream",
     "text": [
      "a:  [ 1.   3.2  5.4  7.6  9.8 12. ]\n",
      "b:  [[ 1.   3.2]\n",
      " [ 5.4  7.6]\n",
      " [ 9.8 12. ]]\n",
      "c:  [1 2 3 4 5 6 7 8 9 0]\n",
      "a.size():  6\n",
      "b.size():  6\n",
      "c.size():  10\n",
      "a.itemsize:  8\n",
      "b.itemsize:  8\n",
      "c.itemsize:  4\n"
     ]
    }
   ],
   "source": [
    "a = np.linspace(1,12,6) # de 1 a 12, com 6 elementos distribuidos linearmente\n",
    "b = a.reshape(3,2) # remodela o vetor de 6 posiçoes para uma matriz de 3x2\n",
    "c = np.array([1,2,3,4,5,6,7,8,9,0])\n",
    "print('a: ', a)\n",
    "print('b: ', b)\n",
    "print('c: ', c)\n",
    "print('a.size(): ', a.size)\n",
    "print('b.size(): ', b.size)\n",
    "print('c.size(): ', c.size)\n",
    "print('a.itemsize: ', a.itemsize)\n",
    "print('b.itemsize: ', b.itemsize)\n",
    "print('c.itemsize: ', c.itemsize)"
   ]
  },
  {
   "cell_type": "markdown",
   "metadata": {},
   "source": [
    "## 2.11. NumPy `dtype()` - tipo de dados armazenado"
   ]
  },
  {
   "cell_type": "code",
   "execution_count": 15,
   "metadata": {},
   "outputs": [
    {
     "name": "stdout",
     "output_type": "stream",
     "text": [
      "a:  [1 5 9]\n",
      "b:  [ 1.   3.2  5.4  7.6  9.8 12. ]\n",
      "dtype(a):  int32\n",
      "dtype(b):  float64\n"
     ]
    }
   ],
   "source": [
    "a = np.arange(1,12,4)\n",
    "b = np.linspace(1,12,6)\n",
    "print('a: ', a)\n",
    "print('b: ', b)\n",
    "print('dtype(a): ', a.dtype)\n",
    "print('dtype(b): ', b.dtype)"
   ]
  },
  {
   "cell_type": "markdown",
   "metadata": {},
   "source": [
    "## 2.12. NumPy vetor multi-dimensional importância do colchete [] e parenteses ()"
   ]
  },
  {
   "cell_type": "code",
   "execution_count": 16,
   "metadata": {},
   "outputs": [
    {
     "name": "stdout",
     "output_type": "stream",
     "text": [
      "a:  [[ 1.   3.2  5.4]\n",
      " [ 7.6  9.8 12. ]]\n",
      "a.shape:  (2, 3)\n",
      "a.size: 6\n",
      "a.dtype float64\n"
     ]
    }
   ],
   "source": [
    "a = np.array([(1,3.2,5.4),(7.6, 9.8, 12)])\n",
    "print('a: ', a)\n",
    "print('a.shape: ', a.shape)\n",
    "print('a.size:', a.size)\n",
    "print('a.dtype', a.dtype)"
   ]
  },
  {
   "cell_type": "markdown",
   "metadata": {},
   "source": [
    "## 2.13. NumPy operação com todos elementos do array"
   ]
  },
  {
   "cell_type": "code",
   "execution_count": 17,
   "metadata": {},
   "outputs": [
    {
     "name": "stdout",
     "output_type": "stream",
     "text": [
      "a:  [[ 1.   3.2  5.4]\n",
      " [ 7.6  9.8 12. ]]\n",
      "a < 4: # compara (<) cada um dos elementos com 4\n",
      " [[ True  True False]\n",
      " [False False False]]\n",
      "\n",
      "a * 3:\n",
      " [[ 3.   9.6 16.2]\n",
      " [22.8 29.4 36. ]]\n",
      "\n",
      "a:\n",
      " [[ 3.   9.6 16.2]\n",
      " [22.8 29.4 36. ]]\n"
     ]
    }
   ],
   "source": [
    "a = np.array([(1,3.2,5.4),(7.6, 9.8, 12)])\n",
    "print('a: ', a)\n",
    "print('a < 4: # compara (<) cada um dos elementos com 4\\n', a < 4)\n",
    "print('\\na * 3:\\n', a * 3 )\n",
    "a *= 3\n",
    "print('\\na:\\n', a)"
   ]
  },
  {
   "cell_type": "markdown",
   "metadata": {},
   "source": [
    "## 2.14. NumPy funções `zeros()` e `ones()`"
   ]
  },
  {
   "cell_type": "code",
   "execution_count": 18,
   "metadata": {},
   "outputs": [
    {
     "name": "stdout",
     "output_type": "stream",
     "text": [
      "a:\n",
      " [[0. 0. 0. 0.]\n",
      " [0. 0. 0. 0.]\n",
      " [0. 0. 0. 0.]]\n",
      "a.dtype: float64\n",
      "b:\n",
      " [[1. 1. 1.]\n",
      " [1. 1. 1.]]\n",
      "b.dtype: float64\n",
      "c:\n",
      " [1. 1. 1. 1. 1. 1. 1. 1. 1. 1.]\n"
     ]
    }
   ],
   "source": [
    "a = np.zeros((3,4))\n",
    "print('a:\\n', a)\n",
    "print('a.dtype:', a.dtype)\n",
    "b = np.ones((2,3))\n",
    "print('b:\\n', b)\n",
    "print('b.dtype:', b.dtype)\n",
    "c = np.ones(10)\n",
    "print('c:\\n', c)"
   ]
  },
  {
   "cell_type": "markdown",
   "metadata": {},
   "source": [
    "## 2.15. NumPy  `dtype()`, `random`, `randint`, `set_printoptions`, `min()`, `max()`, `mean()` `std()`, `var()`, parâmetro `axis=n`"
   ]
  },
  {
   "cell_type": "code",
   "execution_count": 19,
   "metadata": {},
   "outputs": [
    {
     "name": "stdout",
     "output_type": "stream",
     "text": [
      "a:\n",
      " [2 3 4]\n",
      "a.dtype: int16\n",
      "a.itemsize: 2\n",
      "b:\n",
      " [[0.13915556 0.79182196 0.70370075]\n",
      " [0.95615821 0.92911797 0.03668328]]\n",
      "b.dtype: float64\n",
      "b.itemsize: 8\n",
      "c:\n",
      " [3 6 2 8 4]\n",
      "c.dtype: int32\n",
      "c.itemsize: 4\n",
      "c.sum:  23\n",
      "c.min:  2 ; c.max: 8  - mean: 4.6  - std: 2.1540659228538015  - var: 4.64\n",
      "agora operações com eixo axis=n\n",
      "b:\n",
      " [[0.13915556 0.79182196 0.70370075]\n",
      " [0.95615821 0.92911797 0.03668328]]\n",
      "\n",
      "b.sum(axis=0) [1.09531377 1.72093993 0.74038403]\n"
     ]
    }
   ],
   "source": [
    "a = np.array([2,3,4], dtype=np.int16)\n",
    "print('a:\\n', a)\n",
    "print('a.dtype:', a.dtype)\n",
    "print('a.itemsize:', a.itemsize) # tamanho ocupado em bytes\n",
    "b = np.random.random((2,3))\n",
    "print('b:\\n', b)\n",
    "print('b.dtype:', b.dtype)\n",
    "print('b.itemsize:', b.itemsize)\n",
    "c = np.random.randint(0,10,5) # de 0 to 10 (inclusivo) com 5 elementos\n",
    "print('c:\\n', c)\n",
    "print('c.dtype:', c.dtype)\n",
    "print('c.itemsize:', c.itemsize)\n",
    "print('c.sum: ', c.sum())\n",
    "print('c.min: ', c.min(), '; c.max:', c.max(), ' - mean:', c.mean(), ' - std:', c.std(), ' - var:', c.var())\n",
    "print('agora operações com eixo axis=n')\n",
    "print('b:\\n', b)\n",
    "print('\\nb.sum(axis=0)', b.sum(axis=0))"
   ]
  },
  {
   "cell_type": "markdown",
   "metadata": {},
   "source": [
    "## 2.16. NumPy `loadtxt()` - importação de arquivos \n",
    "* **NumPy** simplifica muito a importação de arquivos em formato texto separados por vírgulas"
   ]
  },
  {
   "cell_type": "code",
   "execution_count": 20,
   "metadata": {},
   "outputs": [
    {
     "name": "stdout",
     "output_type": "stream",
     "text": [
      "data:\n",
      " [[1 7 4 9 2 5 8 3 5 0]\n",
      " [4 8 3 9 5 8 8 5 0 1]\n",
      " [1 7 4 2 5 9 6 8 0 3]\n",
      " [0 7 5 2 8 6 3 4 1 9]\n",
      " [5 9 1 4 7 0 3 6 8 2]]\n"
     ]
    }
   ],
   "source": [
    "import numpy as np\n",
    "data = np.loadtxt('data.txt', dtype=np.uint8, delimiter=',', skiprows=1)\n",
    "print('data:\\n', data)"
   ]
  },
  {
   "cell_type": "markdown",
   "metadata": {},
   "source": [
    "## 2.16. NumPy `arange()`, `shuffle()`, `choice()`\n",
    "* A função `arange()` gera uma lista\n",
    "* A função `shuffle()` embaralha uma lista"
   ]
  },
  {
   "cell_type": "code",
   "execution_count": 21,
   "metadata": {},
   "outputs": [
    {
     "name": "stdout",
     "output_type": "stream",
     "text": [
      "a:\n",
      " [0 1 2 3 4 5 6 7 8 9]\n",
      "shuffle(a)\n",
      "a:\n",
      " [6 2 7 9 5 3 8 0 4 1]\n",
      "np.random.choice(a):  2\n"
     ]
    }
   ],
   "source": [
    "import numpy as np\n",
    "a = np.arange(10)  # lista de 10 elementos iniciadas em 0 até n-1\n",
    "print('a:\\n', a)\n",
    "print('shuffle(a)')\n",
    "np.random.shuffle(a)\n",
    "print('a:\\n', a)\n",
    "print('np.random.choice(a): ', np.random.choice(a))\n"
   ]
  },
  {
   "cell_type": "markdown",
   "metadata": {},
   "source": [
    "## 2.17. Manipulação de elementos em NumPy array"
   ]
  },
  {
   "cell_type": "code",
   "execution_count": 9,
   "metadata": {},
   "outputs": [
    {
     "name": "stdout",
     "output_type": "stream",
     "text": [
      "array:  [1 2 3]\n"
     ]
    }
   ],
   "source": [
    "import numpy as np\n",
    "array = np.array([1, 2, 3])\n",
    "print('array: ', array)"
   ]
  },
  {
   "cell_type": "code",
   "execution_count": 10,
   "metadata": {},
   "outputs": [
    {
     "data": {
      "text/plain": [
       "array([ 1, 10,  2,  3])"
      ]
     },
     "execution_count": 10,
     "metadata": {},
     "output_type": "execute_result"
    }
   ],
   "source": [
    "np.insert(array,1,10) # a partir da posição 1, o elemento 10"
   ]
  },
  {
   "cell_type": "code",
   "execution_count": 11,
   "metadata": {},
   "outputs": [
    {
     "name": "stdout",
     "output_type": "stream",
     "text": [
      "array:  [1 2 3]\n"
     ]
    }
   ],
   "source": [
    "print('array: ', array) # array continua com o conteúdo inicial"
   ]
  },
  {
   "cell_type": "markdown",
   "metadata": {},
   "source": [
    "## 2.18. Manipulação de elementos em NumPy array multi-dimensional\n",
    "* Avaliando o numero de dimensoes de um array multi-dimensional com `ndim`\n",
    "* Somar os elementos de um eixo ( vertical ou horizontal ) com `sum()`\n",
    "* Inserir elemento em um array-multi-dimensional com `insert()`\n",
    "* Anexar elemento ao final de um array com `append()`\n",
    "* Deletando elementos do array com `delete()` pode-se escolher o eixo\n",
    "* Deletando elementos do array com operacoes de fatiamento `[::]`\n",
    "* Repetir elementos em um array com `repeat()`"
   ]
  },
  {
   "cell_type": "code",
   "execution_count": 56,
   "metadata": {},
   "outputs": [
    {
     "name": "stdout",
     "output_type": "stream",
     "text": [
      "a:\n",
      " [[1 2]\n",
      " [3 4]] \n",
      "\n",
      "núm. dimensoes: 2\n",
      "Soma do eixo X (vertical):  [4 6]\n",
      "Soma do eixo Y (horizontal): [3 7]\n"
     ]
    }
   ],
   "source": [
    "a = np.array([[1,2],[3,4]])\n",
    "print('a:\\n', a , '\\n')\n",
    "\n",
    "print('núm. dimensoes:', a.ndim)\n",
    "print('Soma do eixo X (vertical): ', a.sum(axis=0)) # soma dos elementos do eixo X\n",
    "print('Soma do eixo Y (horizontal):', a.sum(axis=1)) # soma dos elementos do eixo Y\n"
   ]
  },
  {
   "cell_type": "code",
   "execution_count": 57,
   "metadata": {},
   "outputs": [
    {
     "data": {
      "text/plain": [
       "array([[1, 5, 2],\n",
       "       [3, 5, 4]])"
      ]
     },
     "execution_count": 57,
     "metadata": {},
     "output_type": "execute_result"
    }
   ],
   "source": [
    "np.insert(a, 1, 5, axis = 1) # axis = 1 "
   ]
  },
  {
   "cell_type": "code",
   "execution_count": 58,
   "metadata": {},
   "outputs": [
    {
     "data": {
      "text/plain": [
       "array([[5, 5],\n",
       "       [1, 2],\n",
       "       [3, 4]])"
      ]
     },
     "execution_count": 58,
     "metadata": {},
     "output_type": "execute_result"
    }
   ],
   "source": [
    "np.insert(a, 0, 5, axis = 0) # axis = 0 "
   ]
  },
  {
   "cell_type": "code",
   "execution_count": 59,
   "metadata": {},
   "outputs": [
    {
     "data": {
      "text/plain": [
       "array([1, 2, 3, 4, 5, 6])"
      ]
     },
     "execution_count": 59,
     "metadata": {},
     "output_type": "execute_result"
    }
   ],
   "source": [
    "import numpy as np\n",
    "a = np.array([1,2,3])\n",
    "np.append(a, [4,5,6])"
   ]
  },
  {
   "cell_type": "code",
   "execution_count": 60,
   "metadata": {},
   "outputs": [
    {
     "name": "stdout",
     "output_type": "stream",
     "text": [
      "b:\n",
      " [[1 2]\n",
      " [3 4]]\n"
     ]
    },
    {
     "data": {
      "text/plain": [
       "array([[1, 2],\n",
       "       [3, 4],\n",
       "       [5, 6]])"
      ]
     },
     "execution_count": 60,
     "metadata": {},
     "output_type": "execute_result"
    }
   ],
   "source": [
    "b = np.array([[1,2], [3,4]])\n",
    "print('b:\\n', b)\n",
    "np.append(b,[[5,6]]) # sem dizer qual o eixo, vai virar um array uni-dimensional\n",
    "np.append(b,[[5,6]], axis=0) # dizendo o eixo volta a ser uma matriz"
   ]
  },
  {
   "cell_type": "code",
   "execution_count": 61,
   "metadata": {},
   "outputs": [
    {
     "data": {
      "text/plain": [
       "array([[2],\n",
       "       [4],\n",
       "       [6]])"
      ]
     },
     "execution_count": 61,
     "metadata": {},
     "output_type": "execute_result"
    }
   ],
   "source": [
    "a = np.array([[1,2],[3,4],[5,6]])\n",
    "np.delete(a, 1, 0) # elemento indexado 1 (começa em 0) do eixo x\n",
    "np.delete(a, 0, 1) # elemento indexado 0 (primeiro) do eixo y"
   ]
  },
  {
   "cell_type": "code",
   "execution_count": 62,
   "metadata": {},
   "outputs": [
    {
     "name": "stdout",
     "output_type": "stream",
     "text": [
      "b:\n",
      " [[ 1  2  3]\n",
      " [ 4  5  6]\n",
      " [ 7  8  9]\n",
      " [10 11 12]]\n",
      "b_(depois do delete):\n",
      " [[ 4  5  6]\n",
      " [10 11 12]]\n"
     ]
    }
   ],
   "source": [
    "b = np.array([[1,2,3],[4,5,6],[7,8,9],[10,11,12]])\n",
    "print('b:\\n', b)\n",
    "b_ = np.delete(b,np.s_[::2],0)\n",
    "print('b_(depois do delete):\\n', b_)\n"
   ]
  },
  {
   "cell_type": "code",
   "execution_count": 70,
   "metadata": {},
   "outputs": [
    {
     "name": "stdout",
     "output_type": "stream",
     "text": [
      "a:\n",
      " [[1 2]\n",
      " [3 4]]\n",
      "\n",
      "repeat(array,n-repeat): repetir 2 vezes cada elemento do eixo 0 \n",
      " [[1 2]\n",
      " [1 2]\n",
      " [3 4]\n",
      " [3 4]]\n",
      "\n",
      "repeat(array,n-repeat): repetir 2 vezes cada elemento do eixo 1 \n",
      " [[1 1 2 2]\n",
      " [3 3 4 4]]\n"
     ]
    }
   ],
   "source": [
    "import numpy as np\n",
    "a = np.array([[1,2],[3,4]])\n",
    "print('a:\\n', a)\n",
    "np.repeat(a,2) # repetir 2 vezes cada elemento\n",
    "print('\\nrepeat(array,n-repeat): repetir 2 vezes cada elemento do eixo 0 \\n', np.repeat(a,2,axis=0))\n",
    "print('\\nrepeat(array,n-repeat): repetir 2 vezes cada elemento do eixo 1 \\n', np.repeat(a,2,axis=1))\n"
   ]
  },
  {
   "cell_type": "code",
   "execution_count": null,
   "metadata": {},
   "outputs": [],
   "source": []
  }
 ],
 "metadata": {
  "kernelspec": {
   "display_name": "Python 3",
   "language": "python",
   "name": "python3"
  },
  "language_info": {
   "codemirror_mode": {
    "name": "ipython",
    "version": 3
   },
   "file_extension": ".py",
   "mimetype": "text/x-python",
   "name": "python",
   "nbconvert_exporter": "python",
   "pygments_lexer": "ipython3",
   "version": "3.7.0"
  }
 },
 "nbformat": 4,
 "nbformat_minor": 2
}
