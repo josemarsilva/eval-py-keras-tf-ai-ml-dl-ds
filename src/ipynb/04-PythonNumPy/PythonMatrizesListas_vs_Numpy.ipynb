{
 "cells": [
  {
   "cell_type": "markdown",
   "metadata": {},
   "source": [
    "# Matrizes com Listas e com NumPy"
   ]
  },
  {
   "cell_type": "markdown",
   "metadata": {},
   "source": [
    "## 1. Introdução a Matriz\n",
    "* Matriz é como se fosse uma tabela de \"n\" por \"m\" elementos\n",
    "* Há varias tipos de matriz: quadradas, transpotas, identidade, etc\n",
    "* Dado a matriz 3x3 abaixo\n",
    "\n",
    "```txt\n",
    "| 5  4  7 |\n",
    "| 0  3  4 |\n",
    "| 0  0  6 |\n",
    "```\n",
    "\n",
    "* Em Python, uma matriz pode ser representada por uma lista de listas (listas aninhadas)"
   ]
  },
  {
   "cell_type": "code",
   "execution_count": 10,
   "metadata": {},
   "outputs": [
    {
     "name": "stdout",
     "output_type": "stream",
     "text": [
      "mat:\n",
      " [[5, 4, 7], [0, 3, 4], [0, 0, 6]]\n",
      "mat[0] - Primeira linha da matriz:\n",
      " [5, 4, 7]\n",
      "mat[1,1] - Elemento na segunda linha e segunda coluna:\n",
      " 3\n"
     ]
    }
   ],
   "source": [
    "mat = [[5,4,7],[0,3,4],[0,0,6]]\n",
    "print('mat:\\n', mat)\n",
    "print('mat[0] - Primeira linha da matriz:\\n', mat[0])\n",
    "print('mat[1,1] - Elemento na segunda linha e segunda coluna:\\n', mat[1][1])"
   ]
  },
  {
   "cell_type": "markdown",
   "metadata": {},
   "source": [
    "## 2. Obter os elementos de uma coluna da matriz\n",
    "* Utilizando **Listas em Python**, para se obter os elementos por coluna é preciso iterar a lista"
   ]
  },
  {
   "cell_type": "code",
   "execution_count": 11,
   "metadata": {},
   "outputs": [
    {
     "name": "stdout",
     "output_type": "stream",
     "text": [
      "4\n",
      "3\n",
      "0\n"
     ]
    }
   ],
   "source": [
    "for linha in mat:\n",
    "    print(linha[1]) # segunda linha indice = 1"
   ]
  },
  {
   "cell_type": "markdown",
   "metadata": {},
   "source": [
    "* Utilizando **NumPy em Python** para se obter os elementos da coluna é bem mais simples"
   ]
  },
  {
   "cell_type": "code",
   "execution_count": 36,
   "metadata": {},
   "outputs": [
    {
     "name": "stdout",
     "output_type": "stream",
     "text": [
      "m1:\n",
      " [[5 4 7]\n",
      " [0 3 4]\n",
      " [0 0 6]]\n",
      "m1[0] - Primeira linha com NumPy Array:\n",
      " [5 4 7]\n",
      "m1[1,1] - Elemento na segunda linha e segunda coluna:\n",
      " 3\n",
      "m1[0] - Primeira linha com NumPy Array:\n",
      " [5 4 7]\n",
      "m1[0,:] - Primeira linha com NumPy Array (opção 2):\n",
      " [5 4 7]\n",
      "m1[:,1] - Segunda coluna com NumPy Array:\n",
      " [4 3 0]\n"
     ]
    }
   ],
   "source": [
    "import numpy as np\n",
    "m1 = np.array([[5,4,7],[0,3,4],[0,0,6]])\n",
    "print('m1:\\n', m1)\n",
    "print('m1[0] - Primeira linha com NumPy Array:\\n', m1[0])\n",
    "print('m1[1,1] - Elemento na segunda linha e segunda coluna:\\n', m1[1][1])\n",
    "print('m1[0] - Primeira linha com NumPy Array:\\n', m1[0])\n",
    "print('m1[0,:] - Primeira linha com NumPy Array (opção 2):\\n', m1[0,:])\n",
    "print('m1[:,1] - Segunda coluna com NumPy Array:\\n', m1[:,1])"
   ]
  },
  {
   "cell_type": "markdown",
   "metadata": {},
   "source": [
    "## 3. Construindo uma matriz com NumPy Array\n",
    "* NumPy oferece a funcao `arange()` para geração de dados uniformimente espaçados"
   ]
  },
  {
   "cell_type": "code",
   "execution_count": 27,
   "metadata": {},
   "outputs": [
    {
     "name": "stdout",
     "output_type": "stream",
     "text": [
      "m2:\n",
      " [ 0  1  2  3  4  5  6  7  8  9 10 11 12 13 14 15 16 17 18 19]\n",
      "m3:\n",
      " [ 0  4  8 12 16]\n"
     ]
    }
   ],
   "source": [
    "import numpy as np\n",
    "m2 = np.arange(0,20) # Criar um array com 20 valores, iniciando em 0, até (20-1)\n",
    "print('m2:\\n', m2)\n",
    "m3 = np.arange(0,20,4) # criar um array com 20 valores, iniciando em 0, até (20-1), saltando de 4 em 4\n",
    "print('m3:\\n', m3)"
   ]
  },
  {
   "cell_type": "markdown",
   "metadata": {},
   "source": [
    "## 4. Remodelando (reshape) uma matriz com NumPy Array\n",
    "* Remodelar uma matriz com NumPy é alterar a estrutura de tamanho dela\n",
    "* O NumPy é muito eficiente para operações com matrizes\n",
    "* Mesmo remodelada para uma matriz, é possível pegar o n-ésimo elemento como se fosse um array\n",
    "* A estrutrua de matriz em NumPy é flexível a ponto de guardar na estrutura tipo de dados diferentes"
   ]
  },
  {
   "cell_type": "code",
   "execution_count": 31,
   "metadata": {},
   "outputs": [
    {
     "name": "stdout",
     "output_type": "stream",
     "text": [
      "m4:\n",
      " [[ 0  1  2  3]\n",
      " [ 4  5  6  7]\n",
      " [ 8  9 10 11]\n",
      " [12 13 14 15]\n",
      " [16 17 18 19]]\n",
      "m4.item(5):\n",
      " 5\n",
      "m5:\n",
      " [['python' 'é' 'legal']\n",
      " ['guido' 'van' 'rossum']\n",
      " ['1' '2' '3']]\n"
     ]
    }
   ],
   "source": [
    "import numpy as np\n",
    "m4 = np.reshape(m2, (5,4)) # transforma um array unidimensional em uma matriz 5 x 4\n",
    "print('m4:\\n', m4)\n",
    "print('m4.item(5):\\n', m4.item(5))\n",
    "\n",
    "l1 = ['python', 'é', 'legal']\n",
    "l2 = [ 'guido', 'van', 'rossum'] # criador da linguagem Python\n",
    "l3 = [ 1, 2, 3]\n",
    "\n",
    "m5 = np.array([l1, l2, l3]) #\n",
    "print('m5:\\n', m5)"
   ]
  },
  {
   "cell_type": "code",
   "execution_count": null,
   "metadata": {},
   "outputs": [],
   "source": []
  }
 ],
 "metadata": {
  "kernelspec": {
   "display_name": "Python 3",
   "language": "python",
   "name": "python3"
  },
  "language_info": {
   "codemirror_mode": {
    "name": "ipython",
    "version": 3
   },
   "file_extension": ".py",
   "mimetype": "text/x-python",
   "name": "python",
   "nbconvert_exporter": "python",
   "pygments_lexer": "ipython3",
   "version": "3.7.0"
  }
 },
 "nbformat": 4,
 "nbformat_minor": 2
}
