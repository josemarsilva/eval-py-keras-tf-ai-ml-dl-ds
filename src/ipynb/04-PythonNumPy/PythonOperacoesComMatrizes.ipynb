{
 "cells": [
  {
   "cell_type": "markdown",
   "metadata": {},
   "source": [
    "# Python - Operações com Matrizes"
   ]
  },
  {
   "cell_type": "markdown",
   "metadata": {},
   "source": [
    "## 1. Operações com matrizes\n",
    "* Observe com é simples fazer operações com matrizes\n",
    "* Operação de Dividir os elementos de uma matriz por outra é simplesmente m2 / m1\n",
    "* Operação de Arredondamento dos elementos de uma matriz\n",
    "* Operação de Multiplicação dos elementos de uma matriz\n",
    "* Operação de Soma dos elementos de uma matriz\n",
    "* Operação de Subtraão dos elementos de uma matriz\n",
    "* Operação de Exponenciação dos elementos de uma matriz"
   ]
  },
  {
   "cell_type": "code",
   "execution_count": 11,
   "metadata": {},
   "outputs": [
    {
     "name": "stdout",
     "output_type": "stream",
     "text": [
      "m1:\n",
      " [[1 2 3]\n",
      " [4 5 6]]\n",
      "m2:\n",
      " [[ 7  8  9]\n",
      " [10 11 12]]\n",
      "m2/m1:\n",
      " [[7.  4.  3. ]\n",
      " [2.5 2.2 2. ]]\n",
      "np.matrix.round(m2/m1):\n",
      " [[7. 4. 3.]\n",
      " [2. 2. 2.]]\n",
      "10 * m2:\n",
      " [[ 70  80  90]\n",
      " [100 110 120]]\n",
      "m1 + 5:\n",
      " [[ 6  7  8]\n",
      " [ 9 10 11]]\n",
      "m2 - 1:\n",
      " [[ 6  7  8]\n",
      " [ 9 10 11]]\n",
      "m1 ** 2:\n",
      " [[ 1  4  9]\n",
      " [16 25 36]]\n"
     ]
    }
   ],
   "source": [
    "import numpy as np\n",
    "m1 = np.array([[1,2,3],[4,5,6]])\n",
    "m2 = np.array([[7,8,9],[10,11,12]])\n",
    "print('m1:\\n', m1)\n",
    "print('m2:\\n', m2)\n",
    "print('m2/m1:\\n', m2/m1) # para cada elemento (i,j) de m2 aplicar a divisão pelo elemento (i,j) de m1\n",
    "print('np.matrix.round(m2/m1):\\n', np.matrix.round(m2/m1)) # arredondando cada um dos elementos\n",
    "print('10 * m2:\\n', 10 * m2)\n",
    "print('m1 + 5:\\n', m1 + 5)\n",
    "print('m2 - 1:\\n', m2 - 1)\n",
    "print('m1 ** 2:\\n', m1 ** 2)\n"
   ]
  },
  {
   "cell_type": "code",
   "execution_count": null,
   "metadata": {},
   "outputs": [],
   "source": []
  }
 ],
 "metadata": {
  "kernelspec": {
   "display_name": "Python 3",
   "language": "python",
   "name": "python3"
  },
  "language_info": {
   "codemirror_mode": {
    "name": "ipython",
    "version": 3
   },
   "file_extension": ".py",
   "mimetype": "text/x-python",
   "name": "python",
   "nbconvert_exporter": "python",
   "pygments_lexer": "ipython3",
   "version": "3.7.0"
  }
 },
 "nbformat": 4,
 "nbformat_minor": 2
}
